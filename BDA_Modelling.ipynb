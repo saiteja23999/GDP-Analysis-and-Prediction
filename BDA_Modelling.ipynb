{
  "nbformat": 4,
  "nbformat_minor": 0,
  "metadata": {
    "colab": {
      "name": "BDA_Modelling.ipynb",
      "provenance": [],
      "collapsed_sections": []
    },
    "kernelspec": {
      "name": "python3",
      "display_name": "Python 3"
    },
    "language_info": {
      "name": "python"
    }
  },
  "cells": [
    {
      "cell_type": "code",
      "metadata": {
        "id": "LrCQF-K-W4G9"
      },
      "source": [
        "import numpy as np\n",
        "import pandas as pd \n",
        "import seaborn as sns\n",
        "from matplotlib import pyplot as plt\n",
        "\n",
        "from sklearn.preprocessing import LabelEncoder\n",
        "from sklearn.model_selection import train_test_split\n",
        "from sklearn.linear_model import LinearRegression\n",
        "from sklearn.tree import DecisionTreeRegressor\n",
        "from sklearn.ensemble import RandomForestRegressor\n",
        "from sklearn.metrics import mean_squared_error, mean_squared_log_error"
      ],
      "execution_count": 5,
      "outputs": []
    },
    {
      "cell_type": "code",
      "metadata": {
        "colab": {
          "base_uri": "https://localhost:8080/",
          "height": 865
        },
        "id": "SgZeZ6dZW81C",
        "outputId": "da94df70-6275-41e7-9ca5-098dd844c527"
      },
      "source": [
        "df = pd.read_csv('/content/drive/MyDrive/world.csv',decimal=',')\n",
        "print('Missing data:')\n",
        "print(df.isnull().sum())\n",
        "df.describe(include='all')"
      ],
      "execution_count": 6,
      "outputs": [
        {
          "output_type": "stream",
          "text": [
            "Missing data:\n",
            "Country                                0\n",
            "Region                                 0\n",
            "Population                             0\n",
            "Area (sq. mi.)                         0\n",
            "Pop. Density (per sq. mi.)             0\n",
            "Coastline (coast/area ratio)           0\n",
            "Net migration                          3\n",
            "Infant mortality (per 1000 births)     3\n",
            "GDP ($ per capita)                     1\n",
            "Literacy (%)                          18\n",
            "Phones (per 1000)                      4\n",
            "Arable (%)                             2\n",
            "Crops (%)                              2\n",
            "Other (%)                              2\n",
            "Climate                               22\n",
            "Birthrate                              3\n",
            "Deathrate                              4\n",
            "Agriculture                           15\n",
            "Industry                              16\n",
            "Service                               15\n",
            "dtype: int64\n"
          ],
          "name": "stdout"
        },
        {
          "output_type": "execute_result",
          "data": {
            "text/html": [
              "<div>\n",
              "<style scoped>\n",
              "    .dataframe tbody tr th:only-of-type {\n",
              "        vertical-align: middle;\n",
              "    }\n",
              "\n",
              "    .dataframe tbody tr th {\n",
              "        vertical-align: top;\n",
              "    }\n",
              "\n",
              "    .dataframe thead th {\n",
              "        text-align: right;\n",
              "    }\n",
              "</style>\n",
              "<table border=\"1\" class=\"dataframe\">\n",
              "  <thead>\n",
              "    <tr style=\"text-align: right;\">\n",
              "      <th></th>\n",
              "      <th>Country</th>\n",
              "      <th>Region</th>\n",
              "      <th>Population</th>\n",
              "      <th>Area (sq. mi.)</th>\n",
              "      <th>Pop. Density (per sq. mi.)</th>\n",
              "      <th>Coastline (coast/area ratio)</th>\n",
              "      <th>Net migration</th>\n",
              "      <th>Infant mortality (per 1000 births)</th>\n",
              "      <th>GDP ($ per capita)</th>\n",
              "      <th>Literacy (%)</th>\n",
              "      <th>Phones (per 1000)</th>\n",
              "      <th>Arable (%)</th>\n",
              "      <th>Crops (%)</th>\n",
              "      <th>Other (%)</th>\n",
              "      <th>Climate</th>\n",
              "      <th>Birthrate</th>\n",
              "      <th>Deathrate</th>\n",
              "      <th>Agriculture</th>\n",
              "      <th>Industry</th>\n",
              "      <th>Service</th>\n",
              "    </tr>\n",
              "  </thead>\n",
              "  <tbody>\n",
              "    <tr>\n",
              "      <th>count</th>\n",
              "      <td>227</td>\n",
              "      <td>227</td>\n",
              "      <td>2.270000e+02</td>\n",
              "      <td>2.270000e+02</td>\n",
              "      <td>227.000000</td>\n",
              "      <td>227.000000</td>\n",
              "      <td>224.000000</td>\n",
              "      <td>224.000000</td>\n",
              "      <td>226.000000</td>\n",
              "      <td>209.000000</td>\n",
              "      <td>223.000000</td>\n",
              "      <td>225.000000</td>\n",
              "      <td>225.000000</td>\n",
              "      <td>225.000000</td>\n",
              "      <td>205.000000</td>\n",
              "      <td>224.000000</td>\n",
              "      <td>223.000000</td>\n",
              "      <td>212.000000</td>\n",
              "      <td>211.000000</td>\n",
              "      <td>212.000000</td>\n",
              "    </tr>\n",
              "    <tr>\n",
              "      <th>unique</th>\n",
              "      <td>227</td>\n",
              "      <td>11</td>\n",
              "      <td>NaN</td>\n",
              "      <td>NaN</td>\n",
              "      <td>NaN</td>\n",
              "      <td>NaN</td>\n",
              "      <td>NaN</td>\n",
              "      <td>NaN</td>\n",
              "      <td>NaN</td>\n",
              "      <td>NaN</td>\n",
              "      <td>NaN</td>\n",
              "      <td>NaN</td>\n",
              "      <td>NaN</td>\n",
              "      <td>NaN</td>\n",
              "      <td>NaN</td>\n",
              "      <td>NaN</td>\n",
              "      <td>NaN</td>\n",
              "      <td>NaN</td>\n",
              "      <td>NaN</td>\n",
              "      <td>NaN</td>\n",
              "    </tr>\n",
              "    <tr>\n",
              "      <th>top</th>\n",
              "      <td>Papua New Guinea</td>\n",
              "      <td>SUB-SAHARAN AFRICA</td>\n",
              "      <td>NaN</td>\n",
              "      <td>NaN</td>\n",
              "      <td>NaN</td>\n",
              "      <td>NaN</td>\n",
              "      <td>NaN</td>\n",
              "      <td>NaN</td>\n",
              "      <td>NaN</td>\n",
              "      <td>NaN</td>\n",
              "      <td>NaN</td>\n",
              "      <td>NaN</td>\n",
              "      <td>NaN</td>\n",
              "      <td>NaN</td>\n",
              "      <td>NaN</td>\n",
              "      <td>NaN</td>\n",
              "      <td>NaN</td>\n",
              "      <td>NaN</td>\n",
              "      <td>NaN</td>\n",
              "      <td>NaN</td>\n",
              "    </tr>\n",
              "    <tr>\n",
              "      <th>freq</th>\n",
              "      <td>1</td>\n",
              "      <td>51</td>\n",
              "      <td>NaN</td>\n",
              "      <td>NaN</td>\n",
              "      <td>NaN</td>\n",
              "      <td>NaN</td>\n",
              "      <td>NaN</td>\n",
              "      <td>NaN</td>\n",
              "      <td>NaN</td>\n",
              "      <td>NaN</td>\n",
              "      <td>NaN</td>\n",
              "      <td>NaN</td>\n",
              "      <td>NaN</td>\n",
              "      <td>NaN</td>\n",
              "      <td>NaN</td>\n",
              "      <td>NaN</td>\n",
              "      <td>NaN</td>\n",
              "      <td>NaN</td>\n",
              "      <td>NaN</td>\n",
              "      <td>NaN</td>\n",
              "    </tr>\n",
              "    <tr>\n",
              "      <th>mean</th>\n",
              "      <td>NaN</td>\n",
              "      <td>NaN</td>\n",
              "      <td>2.874028e+07</td>\n",
              "      <td>5.982270e+05</td>\n",
              "      <td>379.047137</td>\n",
              "      <td>21.165330</td>\n",
              "      <td>0.038125</td>\n",
              "      <td>35.506964</td>\n",
              "      <td>9689.823009</td>\n",
              "      <td>82.838278</td>\n",
              "      <td>236.061435</td>\n",
              "      <td>13.797111</td>\n",
              "      <td>4.564222</td>\n",
              "      <td>81.638311</td>\n",
              "      <td>2.139024</td>\n",
              "      <td>22.114732</td>\n",
              "      <td>9.241345</td>\n",
              "      <td>0.150844</td>\n",
              "      <td>0.282711</td>\n",
              "      <td>0.565283</td>\n",
              "    </tr>\n",
              "    <tr>\n",
              "      <th>std</th>\n",
              "      <td>NaN</td>\n",
              "      <td>NaN</td>\n",
              "      <td>1.178913e+08</td>\n",
              "      <td>1.790282e+06</td>\n",
              "      <td>1660.185825</td>\n",
              "      <td>72.286863</td>\n",
              "      <td>4.889269</td>\n",
              "      <td>35.389899</td>\n",
              "      <td>10049.138513</td>\n",
              "      <td>19.722173</td>\n",
              "      <td>227.991829</td>\n",
              "      <td>13.040402</td>\n",
              "      <td>8.361470</td>\n",
              "      <td>16.140835</td>\n",
              "      <td>0.699397</td>\n",
              "      <td>11.176716</td>\n",
              "      <td>4.990026</td>\n",
              "      <td>0.146798</td>\n",
              "      <td>0.138272</td>\n",
              "      <td>0.165841</td>\n",
              "    </tr>\n",
              "    <tr>\n",
              "      <th>min</th>\n",
              "      <td>NaN</td>\n",
              "      <td>NaN</td>\n",
              "      <td>7.026000e+03</td>\n",
              "      <td>2.000000e+00</td>\n",
              "      <td>0.000000</td>\n",
              "      <td>0.000000</td>\n",
              "      <td>-20.990000</td>\n",
              "      <td>2.290000</td>\n",
              "      <td>500.000000</td>\n",
              "      <td>17.600000</td>\n",
              "      <td>0.200000</td>\n",
              "      <td>0.000000</td>\n",
              "      <td>0.000000</td>\n",
              "      <td>33.330000</td>\n",
              "      <td>1.000000</td>\n",
              "      <td>7.290000</td>\n",
              "      <td>2.290000</td>\n",
              "      <td>0.000000</td>\n",
              "      <td>0.020000</td>\n",
              "      <td>0.062000</td>\n",
              "    </tr>\n",
              "    <tr>\n",
              "      <th>25%</th>\n",
              "      <td>NaN</td>\n",
              "      <td>NaN</td>\n",
              "      <td>4.376240e+05</td>\n",
              "      <td>4.647500e+03</td>\n",
              "      <td>29.150000</td>\n",
              "      <td>0.100000</td>\n",
              "      <td>-0.927500</td>\n",
              "      <td>8.150000</td>\n",
              "      <td>1900.000000</td>\n",
              "      <td>70.600000</td>\n",
              "      <td>37.800000</td>\n",
              "      <td>3.220000</td>\n",
              "      <td>0.190000</td>\n",
              "      <td>71.650000</td>\n",
              "      <td>2.000000</td>\n",
              "      <td>12.672500</td>\n",
              "      <td>5.910000</td>\n",
              "      <td>0.037750</td>\n",
              "      <td>0.193000</td>\n",
              "      <td>0.429250</td>\n",
              "    </tr>\n",
              "    <tr>\n",
              "      <th>50%</th>\n",
              "      <td>NaN</td>\n",
              "      <td>NaN</td>\n",
              "      <td>4.786994e+06</td>\n",
              "      <td>8.660000e+04</td>\n",
              "      <td>78.800000</td>\n",
              "      <td>0.730000</td>\n",
              "      <td>0.000000</td>\n",
              "      <td>21.000000</td>\n",
              "      <td>5550.000000</td>\n",
              "      <td>92.500000</td>\n",
              "      <td>176.200000</td>\n",
              "      <td>10.420000</td>\n",
              "      <td>1.030000</td>\n",
              "      <td>85.700000</td>\n",
              "      <td>2.000000</td>\n",
              "      <td>18.790000</td>\n",
              "      <td>7.840000</td>\n",
              "      <td>0.099000</td>\n",
              "      <td>0.272000</td>\n",
              "      <td>0.571000</td>\n",
              "    </tr>\n",
              "    <tr>\n",
              "      <th>75%</th>\n",
              "      <td>NaN</td>\n",
              "      <td>NaN</td>\n",
              "      <td>1.749777e+07</td>\n",
              "      <td>4.418110e+05</td>\n",
              "      <td>190.150000</td>\n",
              "      <td>10.345000</td>\n",
              "      <td>0.997500</td>\n",
              "      <td>55.705000</td>\n",
              "      <td>15700.000000</td>\n",
              "      <td>98.000000</td>\n",
              "      <td>389.650000</td>\n",
              "      <td>20.000000</td>\n",
              "      <td>4.440000</td>\n",
              "      <td>95.440000</td>\n",
              "      <td>3.000000</td>\n",
              "      <td>29.820000</td>\n",
              "      <td>10.605000</td>\n",
              "      <td>0.221000</td>\n",
              "      <td>0.341000</td>\n",
              "      <td>0.678500</td>\n",
              "    </tr>\n",
              "    <tr>\n",
              "      <th>max</th>\n",
              "      <td>NaN</td>\n",
              "      <td>NaN</td>\n",
              "      <td>1.313974e+09</td>\n",
              "      <td>1.707520e+07</td>\n",
              "      <td>16271.500000</td>\n",
              "      <td>870.660000</td>\n",
              "      <td>23.060000</td>\n",
              "      <td>191.190000</td>\n",
              "      <td>55100.000000</td>\n",
              "      <td>100.000000</td>\n",
              "      <td>1035.600000</td>\n",
              "      <td>62.110000</td>\n",
              "      <td>50.680000</td>\n",
              "      <td>100.000000</td>\n",
              "      <td>4.000000</td>\n",
              "      <td>50.730000</td>\n",
              "      <td>29.740000</td>\n",
              "      <td>0.769000</td>\n",
              "      <td>0.906000</td>\n",
              "      <td>0.954000</td>\n",
              "    </tr>\n",
              "  </tbody>\n",
              "</table>\n",
              "</div>"
            ],
            "text/plain": [
              "                  Country  ...     Service\n",
              "count                 227  ...  212.000000\n",
              "unique                227  ...         NaN\n",
              "top     Papua New Guinea   ...         NaN\n",
              "freq                    1  ...         NaN\n",
              "mean                  NaN  ...    0.565283\n",
              "std                   NaN  ...    0.165841\n",
              "min                   NaN  ...    0.062000\n",
              "25%                   NaN  ...    0.429250\n",
              "50%                   NaN  ...    0.571000\n",
              "75%                   NaN  ...    0.678500\n",
              "max                   NaN  ...    0.954000\n",
              "\n",
              "[11 rows x 20 columns]"
            ]
          },
          "metadata": {
            "tags": []
          },
          "execution_count": 6
        }
      ]
    },
    {
      "cell_type": "code",
      "metadata": {
        "colab": {
          "base_uri": "https://localhost:8080/"
        },
        "id": "NhvsB9gP5NaX",
        "outputId": "7782975b-8e47-4180-f531-8ab0635fd084"
      },
      "source": [
        "from google.colab import drive\n",
        "drive.mount('/content/drive')"
      ],
      "execution_count": 4,
      "outputs": [
        {
          "output_type": "stream",
          "text": [
            "Mounted at /content/drive\n"
          ],
          "name": "stdout"
        }
      ]
    },
    {
      "cell_type": "markdown",
      "metadata": {
        "id": "I5a1Xb3iXIXN"
      },
      "source": [
        "Filling missing values"
      ]
    },
    {
      "cell_type": "code",
      "metadata": {
        "colab": {
          "base_uri": "https://localhost:8080/",
          "height": 399
        },
        "id": "x8ip0h5zXK63",
        "outputId": "bf46acaf-5cfd-46c9-80b8-65d910815273"
      },
      "source": [
        "df.groupby('Region')[['GDP ($ per capita)','Literacy (%)','Agriculture']].median()"
      ],
      "execution_count": null,
      "outputs": [
        {
          "output_type": "execute_result",
          "data": {
            "text/html": [
              "<div>\n",
              "<style scoped>\n",
              "    .dataframe tbody tr th:only-of-type {\n",
              "        vertical-align: middle;\n",
              "    }\n",
              "\n",
              "    .dataframe tbody tr th {\n",
              "        vertical-align: top;\n",
              "    }\n",
              "\n",
              "    .dataframe thead th {\n",
              "        text-align: right;\n",
              "    }\n",
              "</style>\n",
              "<table border=\"1\" class=\"dataframe\">\n",
              "  <thead>\n",
              "    <tr style=\"text-align: right;\">\n",
              "      <th></th>\n",
              "      <th>GDP ($ per capita)</th>\n",
              "      <th>Literacy (%)</th>\n",
              "      <th>Agriculture</th>\n",
              "    </tr>\n",
              "    <tr>\n",
              "      <th>Region</th>\n",
              "      <th></th>\n",
              "      <th></th>\n",
              "      <th></th>\n",
              "    </tr>\n",
              "  </thead>\n",
              "  <tbody>\n",
              "    <tr>\n",
              "      <th>ASIA (EX. NEAR EAST)</th>\n",
              "      <td>3450.0</td>\n",
              "      <td>90.60</td>\n",
              "      <td>0.1610</td>\n",
              "    </tr>\n",
              "    <tr>\n",
              "      <th>BALTICS</th>\n",
              "      <td>11400.0</td>\n",
              "      <td>99.80</td>\n",
              "      <td>0.0400</td>\n",
              "    </tr>\n",
              "    <tr>\n",
              "      <th>C.W. OF IND. STATES</th>\n",
              "      <td>3450.0</td>\n",
              "      <td>99.05</td>\n",
              "      <td>0.1980</td>\n",
              "    </tr>\n",
              "    <tr>\n",
              "      <th>EASTERN EUROPE</th>\n",
              "      <td>9100.0</td>\n",
              "      <td>98.60</td>\n",
              "      <td>0.0815</td>\n",
              "    </tr>\n",
              "    <tr>\n",
              "      <th>LATIN AMER. &amp; CARIB</th>\n",
              "      <td>6300.0</td>\n",
              "      <td>94.05</td>\n",
              "      <td>0.0700</td>\n",
              "    </tr>\n",
              "    <tr>\n",
              "      <th>NEAR EAST</th>\n",
              "      <td>9250.0</td>\n",
              "      <td>83.00</td>\n",
              "      <td>0.0350</td>\n",
              "    </tr>\n",
              "    <tr>\n",
              "      <th>NORTHERN AFRICA</th>\n",
              "      <td>6000.0</td>\n",
              "      <td>70.00</td>\n",
              "      <td>0.1320</td>\n",
              "    </tr>\n",
              "    <tr>\n",
              "      <th>NORTHERN AMERICA</th>\n",
              "      <td>29800.0</td>\n",
              "      <td>97.50</td>\n",
              "      <td>0.0100</td>\n",
              "    </tr>\n",
              "    <tr>\n",
              "      <th>OCEANIA</th>\n",
              "      <td>5000.0</td>\n",
              "      <td>95.00</td>\n",
              "      <td>0.1505</td>\n",
              "    </tr>\n",
              "    <tr>\n",
              "      <th>SUB-SAHARAN AFRICA</th>\n",
              "      <td>1300.0</td>\n",
              "      <td>62.95</td>\n",
              "      <td>0.2760</td>\n",
              "    </tr>\n",
              "    <tr>\n",
              "      <th>WESTERN EUROPE</th>\n",
              "      <td>27200.0</td>\n",
              "      <td>99.00</td>\n",
              "      <td>0.0220</td>\n",
              "    </tr>\n",
              "  </tbody>\n",
              "</table>\n",
              "</div>"
            ],
            "text/plain": [
              "                                     GDP ($ per capita)  ...  Agriculture\n",
              "Region                                                   ...             \n",
              "ASIA (EX. NEAR EAST)                             3450.0  ...       0.1610\n",
              "BALTICS                                         11400.0  ...       0.0400\n",
              "C.W. OF IND. STATES                              3450.0  ...       0.1980\n",
              "EASTERN EUROPE                                   9100.0  ...       0.0815\n",
              "LATIN AMER. & CARIB                              6300.0  ...       0.0700\n",
              "NEAR EAST                                        9250.0  ...       0.0350\n",
              "NORTHERN AFRICA                                  6000.0  ...       0.1320\n",
              "NORTHERN AMERICA                                29800.0  ...       0.0100\n",
              "OCEANIA                                          5000.0  ...       0.1505\n",
              "SUB-SAHARAN AFRICA                               1300.0  ...       0.2760\n",
              "WESTERN EUROPE                                  27200.0  ...       0.0220\n",
              "\n",
              "[11 rows x 3 columns]"
            ]
          },
          "metadata": {
            "tags": []
          },
          "execution_count": 3
        }
      ]
    },
    {
      "cell_type": "code",
      "metadata": {
        "colab": {
          "base_uri": "https://localhost:8080/"
        },
        "id": "HHjdlQYmXU2z",
        "outputId": "c63a692f-ff97-4a43-909f-eafcc0b87421"
      },
      "source": [
        "for col in df.columns.values:\n",
        "    if df[col].isnull().sum() == 0:\n",
        "        continue\n",
        "    if col == 'Climate':\n",
        "        guess_values = df.groupby('Region')['Climate'].apply(lambda x: x.mode().max())\n",
        "    else:\n",
        "        guess_values = df.groupby('Region')[col].median()\n",
        "    for region in df['Region'].unique():\n",
        "        df[col].loc[(df[col].isnull())&(df['Region']==region)] = guess_values[region]"
      ],
      "execution_count": null,
      "outputs": [
        {
          "output_type": "stream",
          "text": [
            "/usr/local/lib/python3.7/dist-packages/pandas/core/indexing.py:670: SettingWithCopyWarning: \n",
            "A value is trying to be set on a copy of a slice from a DataFrame\n",
            "\n",
            "See the caveats in the documentation: https://pandas.pydata.org/pandas-docs/stable/user_guide/indexing.html#returning-a-view-versus-a-copy\n",
            "  iloc._setitem_with_indexer(indexer, value)\n"
          ],
          "name": "stderr"
        }
      ]
    },
    {
      "cell_type": "code",
      "metadata": {
        "colab": {
          "base_uri": "https://localhost:8080/"
        },
        "id": "waxPo0ivXZDa",
        "outputId": "1e56dac4-891d-4805-c8e4-ddebd3f6fe1c"
      },
      "source": [
        "print(df)"
      ],
      "execution_count": null,
      "outputs": [
        {
          "output_type": "stream",
          "text": [
            "             Country                               Region  ...  Industry  Service\n",
            "0       Afghanistan         ASIA (EX. NEAR EAST)           ...     0.240    0.380\n",
            "1           Albania   EASTERN EUROPE                       ...     0.188    0.579\n",
            "2           Algeria   NORTHERN AFRICA                      ...     0.600    0.298\n",
            "3    American Samoa   OCEANIA                              ...     0.171    0.644\n",
            "4           Andorra   WESTERN EUROPE                       ...     0.245    0.720\n",
            "..               ...                                  ...  ...       ...      ...\n",
            "222       West Bank   NEAR EAST                            ...     0.280    0.630\n",
            "223  Western Sahara   NORTHERN AFRICA                      ...     0.357    0.400\n",
            "224           Yemen   NEAR EAST                            ...     0.472    0.393\n",
            "225          Zambia   SUB-SAHARAN AFRICA                   ...     0.290    0.489\n",
            "226        Zimbabwe   SUB-SAHARAN AFRICA                   ...     0.243    0.579\n",
            "\n",
            "[227 rows x 20 columns]\n"
          ],
          "name": "stdout"
        }
      ]
    },
    {
      "cell_type": "markdown",
      "metadata": {
        "id": "q0s2y8xTXiOS"
      },
      "source": [
        "Checking for missing values"
      ]
    },
    {
      "cell_type": "code",
      "metadata": {
        "colab": {
          "base_uri": "https://localhost:8080/"
        },
        "id": "PSyeqpShXeq0",
        "outputId": "9944933c-caf2-468d-e6f7-1d7bbfbd8170"
      },
      "source": [
        "df.isna().count"
      ],
      "execution_count": null,
      "outputs": [
        {
          "output_type": "execute_result",
          "data": {
            "text/plain": [
              "<bound method DataFrame.count of      Country  Region  Population  ...  Agriculture  Industry  Service\n",
              "0      False   False       False  ...        False     False    False\n",
              "1      False   False       False  ...        False     False    False\n",
              "2      False   False       False  ...        False     False    False\n",
              "3      False   False       False  ...        False     False    False\n",
              "4      False   False       False  ...        False     False    False\n",
              "..       ...     ...         ...  ...          ...       ...      ...\n",
              "222    False   False       False  ...        False     False    False\n",
              "223    False   False       False  ...        False     False    False\n",
              "224    False   False       False  ...        False     False    False\n",
              "225    False   False       False  ...        False     False    False\n",
              "226    False   False       False  ...        False     False    False\n",
              "\n",
              "[227 rows x 20 columns]>"
            ]
          },
          "metadata": {
            "tags": []
          },
          "execution_count": 6
        }
      ]
    },
    {
      "cell_type": "code",
      "metadata": {
        "colab": {
          "base_uri": "https://localhost:8080/"
        },
        "id": "6Ika4S0048cd",
        "outputId": "5072115b-7818-4376-930e-aa131c039292"
      },
      "source": [
        "df.corr()['GDP ($ per capita)'].sort_values()"
      ],
      "execution_count": 10,
      "outputs": [
        {
          "output_type": "execute_result",
          "data": {
            "text/plain": [
              "Birthrate                            -0.650137\n",
              "Infant mortality (per 1000 births)   -0.600774\n",
              "Agriculture                          -0.586769\n",
              "Crops (%)                            -0.219229\n",
              "Deathrate                            -0.201661\n",
              "Population                           -0.039324\n",
              "Industry                             -0.028926\n",
              "Arable (%)                            0.019768\n",
              "Coastline (coast/area ratio)          0.049118\n",
              "Area (sq. mi.)                        0.072185\n",
              "Other (%)                             0.097828\n",
              "Pop. Density (per sq. mi.)            0.195773\n",
              "Climate                               0.340791\n",
              "Net migration                         0.382461\n",
              "Literacy (%)                          0.513144\n",
              "Service                               0.550216\n",
              "Phones (per 1000)                     0.834499\n",
              "GDP ($ per capita)                    1.000000\n",
              "Name: GDP ($ per capita), dtype: float64"
            ]
          },
          "metadata": {
            "tags": []
          },
          "execution_count": 10
        }
      ]
    },
    {
      "cell_type": "markdown",
      "metadata": {
        "id": "_Qre00pd0UOX"
      },
      "source": [
        "Testing and Training"
      ]
    },
    {
      "cell_type": "code",
      "metadata": {
        "colab": {
          "base_uri": "https://localhost:8080/",
          "height": 383
        },
        "id": "xL8x9De2XruM",
        "outputId": "39ad72a2-6180-42e0-fb75-9e9fd5811aef"
      },
      "source": [
        "LE = LabelEncoder()\n",
        "df['Region_label'] = LE.fit_transform(df['Region'])\n",
        "df['Climate_label'] = LE.fit_transform(df['Climate'])\n",
        "df.head()"
      ],
      "execution_count": null,
      "outputs": [
        {
          "output_type": "execute_result",
          "data": {
            "text/html": [
              "<div>\n",
              "<style scoped>\n",
              "    .dataframe tbody tr th:only-of-type {\n",
              "        vertical-align: middle;\n",
              "    }\n",
              "\n",
              "    .dataframe tbody tr th {\n",
              "        vertical-align: top;\n",
              "    }\n",
              "\n",
              "    .dataframe thead th {\n",
              "        text-align: right;\n",
              "    }\n",
              "</style>\n",
              "<table border=\"1\" class=\"dataframe\">\n",
              "  <thead>\n",
              "    <tr style=\"text-align: right;\">\n",
              "      <th></th>\n",
              "      <th>Country</th>\n",
              "      <th>Region</th>\n",
              "      <th>Population</th>\n",
              "      <th>Area (sq. mi.)</th>\n",
              "      <th>Pop. Density (per sq. mi.)</th>\n",
              "      <th>Coastline (coast/area ratio)</th>\n",
              "      <th>Net migration</th>\n",
              "      <th>Infant mortality (per 1000 births)</th>\n",
              "      <th>GDP ($ per capita)</th>\n",
              "      <th>Literacy (%)</th>\n",
              "      <th>Phones (per 1000)</th>\n",
              "      <th>Arable (%)</th>\n",
              "      <th>Crops (%)</th>\n",
              "      <th>Other (%)</th>\n",
              "      <th>Climate</th>\n",
              "      <th>Birthrate</th>\n",
              "      <th>Deathrate</th>\n",
              "      <th>Agriculture</th>\n",
              "      <th>Industry</th>\n",
              "      <th>Service</th>\n",
              "      <th>Region_label</th>\n",
              "      <th>Climate_label</th>\n",
              "    </tr>\n",
              "  </thead>\n",
              "  <tbody>\n",
              "    <tr>\n",
              "      <th>0</th>\n",
              "      <td>Afghanistan</td>\n",
              "      <td>ASIA (EX. NEAR EAST)</td>\n",
              "      <td>31056997</td>\n",
              "      <td>647500</td>\n",
              "      <td>48.0</td>\n",
              "      <td>0.00</td>\n",
              "      <td>23.06</td>\n",
              "      <td>163.07</td>\n",
              "      <td>700.0</td>\n",
              "      <td>36.0</td>\n",
              "      <td>3.2</td>\n",
              "      <td>12.13</td>\n",
              "      <td>0.22</td>\n",
              "      <td>87.65</td>\n",
              "      <td>1.0</td>\n",
              "      <td>46.60</td>\n",
              "      <td>20.34</td>\n",
              "      <td>0.3800</td>\n",
              "      <td>0.240</td>\n",
              "      <td>0.380</td>\n",
              "      <td>0</td>\n",
              "      <td>0</td>\n",
              "    </tr>\n",
              "    <tr>\n",
              "      <th>1</th>\n",
              "      <td>Albania</td>\n",
              "      <td>EASTERN EUROPE</td>\n",
              "      <td>3581655</td>\n",
              "      <td>28748</td>\n",
              "      <td>124.6</td>\n",
              "      <td>1.26</td>\n",
              "      <td>-4.93</td>\n",
              "      <td>21.52</td>\n",
              "      <td>4500.0</td>\n",
              "      <td>86.5</td>\n",
              "      <td>71.2</td>\n",
              "      <td>21.09</td>\n",
              "      <td>4.42</td>\n",
              "      <td>74.49</td>\n",
              "      <td>3.0</td>\n",
              "      <td>15.11</td>\n",
              "      <td>5.22</td>\n",
              "      <td>0.2320</td>\n",
              "      <td>0.188</td>\n",
              "      <td>0.579</td>\n",
              "      <td>3</td>\n",
              "      <td>4</td>\n",
              "    </tr>\n",
              "    <tr>\n",
              "      <th>2</th>\n",
              "      <td>Algeria</td>\n",
              "      <td>NORTHERN AFRICA</td>\n",
              "      <td>32930091</td>\n",
              "      <td>2381740</td>\n",
              "      <td>13.8</td>\n",
              "      <td>0.04</td>\n",
              "      <td>-0.39</td>\n",
              "      <td>31.00</td>\n",
              "      <td>6000.0</td>\n",
              "      <td>70.0</td>\n",
              "      <td>78.1</td>\n",
              "      <td>3.22</td>\n",
              "      <td>0.25</td>\n",
              "      <td>96.53</td>\n",
              "      <td>1.0</td>\n",
              "      <td>17.14</td>\n",
              "      <td>4.61</td>\n",
              "      <td>0.1010</td>\n",
              "      <td>0.600</td>\n",
              "      <td>0.298</td>\n",
              "      <td>6</td>\n",
              "      <td>0</td>\n",
              "    </tr>\n",
              "    <tr>\n",
              "      <th>3</th>\n",
              "      <td>American Samoa</td>\n",
              "      <td>OCEANIA</td>\n",
              "      <td>57794</td>\n",
              "      <td>199</td>\n",
              "      <td>290.4</td>\n",
              "      <td>58.29</td>\n",
              "      <td>-20.71</td>\n",
              "      <td>9.27</td>\n",
              "      <td>8000.0</td>\n",
              "      <td>97.0</td>\n",
              "      <td>259.5</td>\n",
              "      <td>10.00</td>\n",
              "      <td>15.00</td>\n",
              "      <td>75.00</td>\n",
              "      <td>2.0</td>\n",
              "      <td>22.46</td>\n",
              "      <td>3.27</td>\n",
              "      <td>0.1505</td>\n",
              "      <td>0.171</td>\n",
              "      <td>0.644</td>\n",
              "      <td>8</td>\n",
              "      <td>2</td>\n",
              "    </tr>\n",
              "    <tr>\n",
              "      <th>4</th>\n",
              "      <td>Andorra</td>\n",
              "      <td>WESTERN EUROPE</td>\n",
              "      <td>71201</td>\n",
              "      <td>468</td>\n",
              "      <td>152.1</td>\n",
              "      <td>0.00</td>\n",
              "      <td>6.60</td>\n",
              "      <td>4.05</td>\n",
              "      <td>19000.0</td>\n",
              "      <td>100.0</td>\n",
              "      <td>497.2</td>\n",
              "      <td>2.22</td>\n",
              "      <td>0.00</td>\n",
              "      <td>97.78</td>\n",
              "      <td>3.0</td>\n",
              "      <td>8.71</td>\n",
              "      <td>6.25</td>\n",
              "      <td>0.0220</td>\n",
              "      <td>0.245</td>\n",
              "      <td>0.720</td>\n",
              "      <td>10</td>\n",
              "      <td>4</td>\n",
              "    </tr>\n",
              "  </tbody>\n",
              "</table>\n",
              "</div>"
            ],
            "text/plain": [
              "           Country  ... Climate_label\n",
              "0     Afghanistan   ...             0\n",
              "1         Albania   ...             4\n",
              "2         Algeria   ...             0\n",
              "3  American Samoa   ...             2\n",
              "4         Andorra   ...             4\n",
              "\n",
              "[5 rows x 22 columns]"
            ]
          },
          "metadata": {
            "tags": []
          },
          "execution_count": 5
        }
      ]
    },
    {
      "cell_type": "code",
      "metadata": {
        "id": "_97BIK8QXxxW"
      },
      "source": [
        "train, test = train_test_split(df, test_size=0.3, shuffle=True)\n",
        "training_features = ['Population', 'Area (sq. mi.)',\n",
        "       'Pop. Density (per sq. mi.)', 'Coastline (coast/area ratio)',\n",
        "       'Net migration', 'Infant mortality (per 1000 births)',\n",
        "       'Literacy (%)', 'Phones (per 1000)',\n",
        "       'Arable (%)', 'Crops (%)', 'Other (%)', 'Birthrate',\n",
        "       'Deathrate', 'Agriculture', 'Industry', 'Service', 'Region_label',\n",
        "       'Climate_label','Service']\n",
        "target = 'GDP ($ per capita)'\n",
        "train_X = train[training_features]\n",
        "train_Y = train[target]\n",
        "test_X = test[training_features]\n",
        "test_Y = test[target]"
      ],
      "execution_count": null,
      "outputs": []
    },
    {
      "cell_type": "markdown",
      "metadata": {
        "id": "Sx0iK6tQYAhU"
      },
      "source": [
        "Linear Regressor"
      ]
    },
    {
      "cell_type": "code",
      "metadata": {
        "colab": {
          "base_uri": "https://localhost:8080/"
        },
        "id": "y0oDEmjCX3Kt",
        "outputId": "840fc579-f53e-406a-9329-deb9df7b6a11"
      },
      "source": [
        "model = LinearRegression()\n",
        "model.fit(train_X, train_Y)\n",
        "train_pred_Y = model.predict(train_X)\n",
        "test_pred_Y = model.predict(test_X)\n",
        "train_pred_Y = pd.Series(train_pred_Y.clip(0, train_pred_Y.max()), index=train_Y.index)\n",
        "test_pred_Y = pd.Series(test_pred_Y.clip(0, test_pred_Y.max()), index=test_Y.index)\n",
        "\n",
        "rmse_train = np.sqrt(mean_squared_error(train_pred_Y, train_Y))\n",
        "msle_train = mean_squared_log_error(train_pred_Y, train_Y)\n",
        "rmse_test = np.sqrt(mean_squared_error(test_pred_Y, test_Y))\n",
        "msle_test = mean_squared_log_error(test_pred_Y, test_Y)\n",
        "\n",
        "print('rmse_train:',rmse_train,'msle_train:',msle_train)\n",
        "print('rmse_test:',rmse_test,'msle_test:',msle_test)\n",
        "print(type(train_pred_Y))"
      ],
      "execution_count": null,
      "outputs": [
        {
          "output_type": "stream",
          "text": [
            "rmse_train: 4681.5745094644235 msle_train: 7.208045104070612\n",
            "rmse_test: 4962.5414719481305 msle_test: 5.708152644500873\n",
            "<class 'pandas.core.series.Series'>\n"
          ],
          "name": "stdout"
        }
      ]
    },
    {
      "cell_type": "markdown",
      "metadata": {
        "id": "VqV37j49YEt8"
      },
      "source": [
        "Random Forest"
      ]
    },
    {
      "cell_type": "code",
      "metadata": {
        "colab": {
          "base_uri": "https://localhost:8080/"
        },
        "id": "y5Jt0nSnX7WB",
        "outputId": "b6c10df9-3e35-4958-f6f8-a433319b68ad"
      },
      "source": [
        "model = RandomForestRegressor(n_estimators = 50,\n",
        "                             max_depth = 6,\n",
        "                             min_weight_fraction_leaf = 0.05,\n",
        "                             max_features = 0.8,\n",
        "                             random_state = 42)\n",
        "model.fit(train_X, train_Y)\n",
        "train_pred_Y = model.predict(train_X)\n",
        "test_pred_Y = model.predict(test_X)\n",
        "train_pred_Y = pd.Series(train_pred_Y.clip(0, train_pred_Y.max()), index=train_Y.index)\n",
        "test_pred_Y = pd.Series(test_pred_Y.clip(0, test_pred_Y.max()), index=test_Y.index)\n",
        "\n",
        "rmse_train = np.sqrt(mean_squared_error(train_pred_Y, train_Y))\n",
        "msle_train = mean_squared_log_error(train_pred_Y, train_Y)\n",
        "rmse_test = np.sqrt(mean_squared_error(test_pred_Y, test_Y))\n",
        "msle_test = mean_squared_log_error(test_pred_Y, test_Y)\n",
        "\n",
        "print('rmse_train:',rmse_train,'msle_train:',msle_train)\n",
        "print('rmse_test:',rmse_test,'msle_test:',msle_test)"
      ],
      "execution_count": null,
      "outputs": [
        {
          "output_type": "stream",
          "text": [
            "rmse_train: 3012.361445961509 msle_train: 0.1522451140185232\n",
            "rmse_test: 4848.036397554015 msle_test: 0.3263045006982196\n"
          ],
          "name": "stdout"
        }
      ]
    },
    {
      "cell_type": "markdown",
      "metadata": {
        "id": "KtbJsdFzYJP5"
      },
      "source": [
        "Nearest neighbour regressor"
      ]
    },
    {
      "cell_type": "code",
      "metadata": {
        "colab": {
          "base_uri": "https://localhost:8080/"
        },
        "id": "JRx5Z7K6YeHC",
        "outputId": "733dae1f-29c0-42c8-f9ae-3a36a6347e62"
      },
      "source": [
        "from sklearn.neighbors import KNeighborsRegressor\n",
        "model = KNeighborsRegressor(n_neighbors=5)\n",
        "model.fit(train_X, train_Y)\n",
        "train_pred_Y = model.predict(train_X)\n",
        "test_pred_Y = model.predict(test_X)\n",
        "train_pred_Y = pd.Series(train_pred_Y.clip(0, train_pred_Y.max()), index=train_Y.index)\n",
        "test_pred_Y = pd.Series(test_pred_Y.clip(0, test_pred_Y.max()), index=test_Y.index)\n",
        "\n",
        "rmse_train = np.sqrt(mean_squared_error(train_pred_Y, train_Y))\n",
        "msle_train = mean_squared_log_error(train_pred_Y, train_Y)\n",
        "rmse_test = np.sqrt(mean_squared_error(test_pred_Y, test_Y))\n",
        "msle_test = mean_squared_log_error(test_pred_Y, test_Y)\n",
        "\n",
        "print('rmse_train:',rmse_train,'msle_train:',msle_train)\n",
        "print('rmse_test:',rmse_test,'msle_test:',msle_test)\n",
        "\n",
        "\n"
      ],
      "execution_count": null,
      "outputs": [
        {
          "output_type": "stream",
          "text": [
            "rmse_train: 9548.696511215085 msle_train: 1.5418753561679512\n",
            "rmse_test: 8808.252059735012 msle_test: 1.4052769817575377\n"
          ],
          "name": "stdout"
        }
      ]
    },
    {
      "cell_type": "markdown",
      "metadata": {
        "id": "dfb9K4rCZEmN"
      },
      "source": [
        "SVR"
      ]
    },
    {
      "cell_type": "code",
      "metadata": {
        "colab": {
          "base_uri": "https://localhost:8080/"
        },
        "id": "I-OqI18oZLgS",
        "outputId": "40b4ac3c-6944-409b-d92f-ce216c61d2b6"
      },
      "source": [
        "from sklearn.svm import SVR\n",
        "model = SVR(kernel = 'rbf')\n",
        "model.fit(train_X, train_Y)\n",
        "train_pred_Y = model.predict(train_X)\n",
        "test_pred_Y = model.predict(test_X)\n",
        "train_pred_Y = pd.Series(train_pred_Y.clip(0, train_pred_Y.max()), index=train_Y.index)\n",
        "test_pred_Y = pd.Series(test_pred_Y.clip(0, test_pred_Y.max()), index=test_Y.index)\n",
        "\n",
        "rmse_train = np.sqrt(mean_squared_error(train_pred_Y, train_Y))\n",
        "msle_train = mean_squared_log_error(train_pred_Y, train_Y)\n",
        "rmse_test = np.sqrt(mean_squared_error(test_pred_Y, test_Y))\n",
        "msle_test = mean_squared_log_error(test_pred_Y, test_Y)\n",
        "\n",
        "print('rmse_train:',rmse_train,'msle_train:',msle_train)\n",
        "print('rmse_test:',rmse_test,'msle_test:',msle_test)"
      ],
      "execution_count": null,
      "outputs": [
        {
          "output_type": "stream",
          "text": [
            "rmse_train: 11607.119915372214 msle_train: 1.5593260921354324\n",
            "rmse_test: 9004.086710361815 msle_test: 1.1076557492939783\n"
          ],
          "name": "stdout"
        }
      ]
    },
    {
      "cell_type": "markdown",
      "metadata": {
        "id": "2asHOZr2ZiX6"
      },
      "source": [
        "Gradient boosting regressor"
      ]
    },
    {
      "cell_type": "code",
      "metadata": {
        "colab": {
          "base_uri": "https://localhost:8080/"
        },
        "id": "oNHDZPFfZpxg",
        "outputId": "58096538-c244-4975-e3b3-2e0c319c7b2e"
      },
      "source": [
        "from sklearn.ensemble import GradientBoostingRegressor\n",
        "model= GradientBoostingRegressor(random_state=0)\n",
        "model.fit(train_X, train_Y)\n",
        "train_pred_Y = model.predict(train_X)\n",
        "test_pred_Y = model.predict(test_X)\n",
        "train_pred_Y = pd.Series(train_pred_Y.clip(0, train_pred_Y.max()), index=train_Y.index)\n",
        "test_pred_Y = pd.Series(test_pred_Y.clip(0, test_pred_Y.max()), index=test_Y.index)\n",
        "\n",
        "rmse_train = np.sqrt(mean_squared_error(train_pred_Y, train_Y))\n",
        "msle_train = mean_squared_log_error(train_pred_Y, train_Y)\n",
        "rmse_test = np.sqrt(mean_squared_error(test_pred_Y, test_Y))\n",
        "msle_test = mean_squared_log_error(test_pred_Y, test_Y)\n",
        "\n",
        "print('rmse_train:',rmse_train,'msle_train:',msle_train)\n",
        "print('rmse_test:',rmse_test,'msle_test:',msle_test)\n",
        "\n"
      ],
      "execution_count": null,
      "outputs": [
        {
          "output_type": "stream",
          "text": [
            "rmse_train: 514.4344420139065 msle_train: 0.036910607537680426\n",
            "rmse_test: 4894.808566729624 msle_test: 0.33685788539380646\n"
          ],
          "name": "stdout"
        }
      ]
    },
    {
      "cell_type": "code",
      "metadata": {
        "colab": {
          "base_uri": "https://localhost:8080/",
          "height": 517
        },
        "id": "fEZZF5Zdrtyk",
        "outputId": "b352d0c0-40cf-45cb-8873-f4d5a3d284c6"
      },
      "source": [
        "plt.figure(figsize=(18,12))\n",
        "\n",
        "train_test_Y = train_Y.append(test_Y)\n",
        "train_test_pred_Y = train_pred_Y.append(test_pred_Y)\n",
        "print(type(train_test_pred_Y))\n",
        "\n",
        "data_shuffled = df.loc[train_test_Y.index]\n",
        "label = data_shuffled['Country']\n",
        "\n",
        "colors = {'ASIA (EX. NEAR EAST)         ':'red',\n",
        "          'EASTERN EUROPE                     ':'orange',\n",
        "          'NORTHERN AFRICA                    ':'gold',\n",
        "          'OCEANIA                            ':'green',\n",
        "          'WESTERN EUROPE                     ':'blue',\n",
        "          'SUB-SAHARAN AFRICA                 ':'purple',\n",
        "          'LATIN AMER. & CARIB    ':'olive',\n",
        "          'C.W. OF IND. STATES ':'cyan',\n",
        "          'NEAR EAST                          ':'hotpink',\n",
        "          'NORTHERN AMERICA                   ':'lightseagreen',\n",
        "          'BALTICS                            ':'rosybrown'}\n",
        "\n",
        "for region, color in colors.items():\n",
        "    X = train_test_Y.loc[data_shuffled['Region']==region]\n",
        "    Y = train_test_pred_Y.loc[data_shuffled['Region']==region]\n",
        "    ax = sns.regplot(x=X, y=Y, marker='.', fit_reg=False, color=color, scatter_kws={'s':200, 'linewidths':0}, label=region) \n",
        "plt.legend(loc=4,prop={'size': 12})  \n",
        "\n",
        "ax.set_xlabel('GDP ($ per capita) ground truth',labelpad=40)\n",
        "ax.set_ylabel('GDP ($ per capita) predicted',labelpad=40)\n",
        "ax.xaxis.label.set_fontsize(24)\n",
        "ax.yaxis.label.set_fontsize(24)\n",
        "ax.tick_params(labelsize=12)\n",
        "\n",
        "x = np.linspace(-1000,50000,100) # 100 linearly spaced numbers\n",
        "y = x\n",
        "plt.plot(x,y,c='gray')\n",
        "\n",
        "plt.xlim(-1000,60000)\n",
        "plt.ylim(-1000,40000)\n",
        "\n",
        "for i in range(0,train_test_Y.shape[0]):\n",
        "    if((data_shuffled['Area (sq. mi.)'].iloc[i]>8e5) |\n",
        "       (data_shuffled['Population'].iloc[i]>1e8) |\n",
        "       (data_shuffled['GDP ($ per capita)'].iloc[i]>10000)):\n",
        "        plt.text(train_test_Y.iloc[i]+200, train_test_pred_Y.iloc[i]-200, label.iloc[i], size='small')"
      ],
      "execution_count": null,
      "outputs": [
        {
          "output_type": "stream",
          "text": [
            "<class 'pandas.core.series.Series'>\n"
          ],
          "name": "stdout"
        },
        {
          "output_type": "display_data",
          "data": {
            "image/png": "[encoded data removed]",
            "text/plain": [
              "<Figure size 1296x864 with 1 Axes>"
            ]
          },
          "metadata": {
            "tags": [],
            "needs_background": "light"
          }
        }
      ]
    },
    {
      "cell_type": "markdown",
      "metadata": {
        "id": "G0r6motkaA_7"
      },
      "source": [
        "Hyper parameter tuning"
      ]
    },
    {
      "cell_type": "markdown",
      "metadata": {
        "id": "EfAC4yKic9gY"
      },
      "source": [
        "using RandomizedSearchCV"
      ]
    },
    {
      "cell_type": "code",
      "metadata": {
        "colab": {
          "base_uri": "https://localhost:8080/"
        },
        "id": "xiX1B2WGaDaL",
        "outputId": "6991cfeb-1c77-4c5f-c184-a527bf16c2f1"
      },
      "source": [
        "from sklearn.ensemble import GradientBoostingRegressor\n",
        "from sklearn.model_selection import RepeatedKFold\n",
        "from sklearn.model_selection import RandomizedSearchCV\n",
        "model =GradientBoostingRegressor()\n",
        "cv = RepeatedKFold(n_splits=10, n_repeats=3, random_state=1)\n",
        "space = dict()\n",
        "space['n_estimators']= [200, 500]\n",
        "space['max_features']= ['auto', 'sqrt', 'log2']\n",
        "space['max_depth'] = [4,5,6,7,8]\n",
        "space['alpha'] = [1e-5, 1e-4, 1e-3, 1e-2, 1e-1, 1, 10, 100,0.99]\n",
        "space['loss'] = ['ls', 'lad', 'huber', 'quantile']\n",
        "space['subsample'] = [1]\n",
        "search = RandomizedSearchCV(model, space, scoring='neg_mean_absolute_error', n_jobs=-1, cv=cv)\n",
        "result = search.fit(train_X, train_Y)\n",
        "print('Best Score: %s' % result.best_score_)\n",
        "print('Best Hyperparameters: %s' % result.best_params_)"
      ],
      "execution_count": null,
      "outputs": [
        {
          "output_type": "stream",
          "text": [
            "Best Score: -2862.524942930228\n",
            "Best Hyperparameters: {'subsample': 1, 'n_estimators': 200, 'max_features': 'auto', 'max_depth': 7, 'loss': 'lad', 'alpha': 0.0001}\n"
          ],
          "name": "stdout"
        }
      ]
    }
  ]
}